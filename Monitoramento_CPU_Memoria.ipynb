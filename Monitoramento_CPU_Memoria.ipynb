{
  "nbformat": 4,
  "nbformat_minor": 0,
  "metadata": {
    "colab": {
      "provenance": [],
      "authorship_tag": "ABX9TyN2X1JXCxvt2EknsKUk2DBv",
      "include_colab_link": true
    },
    "kernelspec": {
      "name": "python3",
      "display_name": "Python 3"
    },
    "language_info": {
      "name": "python"
    }
  },
  "cells": [
    {
      "cell_type": "markdown",
      "metadata": {
        "id": "view-in-github",
        "colab_type": "text"
      },
      "source": [
        "<a href=\"https://colab.research.google.com/github/debscotis/debscotis/blob/main/Monitoramento_CPU_Memoria.ipynb\" target=\"_parent\"><img src=\"https://colab.research.google.com/assets/colab-badge.svg\" alt=\"Open In Colab\"/></a>"
      ]
    },
    {
      "cell_type": "code",
      "source": [
        "import psutil\n",
        "import matplotlib.pyplot as plt\n",
        "from matplotlib.animation import FuncAnimation\n",
        "\n",
        "# obter informações de uso da CPU\n",
        "cpu_percent = psutil.cpu_percent()\n",
        "print(f\"Uso da CPU: {cpu_percent}%\")\n",
        "\n",
        "# obter informações de uso de memória\n",
        "memory = psutil.virtual_memory()\n",
        "print(f\"Uso de memória: {memory.percent}%\")\n",
        "\n",
        "# obter informações de uso de disco\n",
        "disk_usage = psutil.disk_usage(\"/\")\n",
        "print(f\"Uso de disco: {disk_usage.percent}%\")\n",
        "\n",
        "# obter lista de processos\n",
        "processes = psutil.process_iter()\n",
        "for process in processes:\n",
        "    print(f\"PID: {process.pid}, Nome: {process.name()}\")\n",
        "\n",
        "# obter informações de um processo específico\n",
        "process = psutil.Process(1)  # PID 1 é o processo init no Linux\n",
        "print(f\"Nome: {process.name()}, Status: {process.status()}\")\n",
        "\n",
        "# Configura o gráfico\n",
        "fig, ax = plt.subplots()\n",
        "ax.set_ylim(0, 100)\n",
        "ax.set_xlim(0, 100)\n",
        "ax.set_title('Uso de CPU e Memória')\n",
        "ax.set_xlabel('Tempo')\n",
        "ax.set_ylabel('Uso (%)')\n",
        "cpu_line, = ax.plot([], [], label='CPU', color='#FF5733')\n",
        "mem_line, = ax.plot([], [], label='Memória', color='#C70039')\n",
        "ax.legend()\n",
        "\n",
        "# Adiciona textos aos valores da CPU e Memória\n",
        "cpu_text = ax.text(0.77, 0.7, '', transform=ax.transAxes)\n",
        "mem_text = ax.text(0.77, 0.6, '', transform=ax.transAxes)\n",
        "\n",
        "# Função de atualização do gráfico\n",
        "def update_chart(frame):\n",
        "    # Obtém informações de uso da CPU\n",
        "    cpu_percent = psutil.cpu_percent()\n",
        "\n",
        "    # Obtém informações de uso da memória\n",
        "    memory = psutil.virtual_memory()\n",
        "    memory_percent = memory.percent\n",
        "\n",
        "    # Adiciona os dados ao gráfico\n",
        "    cpu_line.set_data(list(range(frame)), [cpu_percent]*frame)\n",
        "    mem_line.set_data(list(range(frame)), [memory_percent]*frame)\n",
        "\n",
        "    # Atualiza os textos com os valores da CPU e Memória\n",
        "    cpu_text.set_text(f'CPU: {cpu_percent:.1f}%')\n",
        "    mem_text.set_text(f'Memória: {memory_percent:.1f}%')\n",
        "\n",
        "    return cpu_line, mem_line, cpu_text, mem_text\n",
        "\n",
        "# Anima o gráfico\n",
        "animation = FuncAnimation(fig, update_chart, frames=100, interval=1000, blit=True)\n",
        "\n",
        "# Estiliza as linhas do gráfico\n",
        "for line in [cpu_line, mem_line]:\n",
        "    line.set_linewidth(2)\n",
        "    line.set_marker('o')\n",
        "    line.set_markersize(5)\n",
        "\n",
        "# Estiliza o fundo do gráfico\n",
        "ax.set_facecolor('#F5F5F5')\n",
        "\n",
        "# Mostra o gráfico\n",
        "plt.show()"
      ],
      "metadata": {
        "colab": {
          "base_uri": "https://localhost:8080/",
          "height": 819
        },
        "id": "UCSsAMO5SOCN",
        "outputId": "08b26c6e-77a1-4f5d-da92-f7b72e05dbc9"
      },
      "execution_count": 7,
      "outputs": [
        {
          "output_type": "stream",
          "name": "stdout",
          "text": [
            "Uso da CPU: 10.2%\n",
            "Uso de memória: 9.7%\n",
            "Uso de disco: 34.0%\n",
            "PID: 1, Nome: docker-init\n",
            "PID: 7, Nome: node\n",
            "PID: 16, Nome: oom_monitor.sh\n",
            "PID: 18, Nome: run.sh\n",
            "PID: 20, Nome: kernel_manager_proxy\n",
            "PID: 32, Nome: tail\n",
            "PID: 47, Nome: tail\n",
            "PID: 78, Nome: python3\n",
            "PID: 79, Nome: colab-fileshim.\n",
            "PID: 96, Nome: jupyter-noteboo\n",
            "PID: 97, Nome: dap_multiplexer\n",
            "PID: 313, Nome: python3\n",
            "PID: 352, Nome: python3\n",
            "PID: 382, Nome: language_service\n",
            "PID: 394, Nome: node\n",
            "PID: 2136, Nome: sleep\n",
            "Nome: docker-init, Status: sleeping\n"
          ]
        },
        {
          "output_type": "display_data",
          "data": {
            "text/plain": [
              "<Figure size 640x480 with 1 Axes>"
            ],
            "image/png": "[encoded data removed]"
          },
          "metadata": {}
        }
      ]
    },
    {
      "cell_type": "code",
      "source": [],
      "metadata": {
        "id": "s0Ftk-ZZSq9G"
      },
      "execution_count": null,
      "outputs": []
    }
  ]
}